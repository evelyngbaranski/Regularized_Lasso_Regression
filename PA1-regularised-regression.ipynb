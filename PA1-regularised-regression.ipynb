{
 "cells": [
  {
   "cell_type": "markdown",
   "metadata": {
    "id": "K9UPCTIaeiQ0"
   },
   "source": [
    "#BA476 Machine Learning Practical Assignment - Exploring the Bias-Variance Tradeoff with Lasso"
   ]
  },
  {
   "cell_type": "markdown",
   "metadata": {
    "id": "vOHv1YhbegUR"
   },
   "source": [
    "\n",
    "The purpose of this assignment is to explore the bias-variance trade-off while practicing your Pandas,\n",
    "Scikit-learn, Matplotlib, and IPython Notebook skills. \n",
    "\n"
   ]
  },
  {
   "cell_type": "markdown",
   "metadata": {
    "id": "qxWVlbHNikAc"
   },
   "source": [
    "To complete this assignment, you will need to  use Scikit-learn's `Lasso()` model to fit a number of Lasso regressions to a CA housing dataset. Each Lasso will be fit using a different value of $\\lambda$, and you will summarise your results by producing two figures. \n",
    "\n",
    "Figure 1 should contain the following elements:\n",
    "1. The x-axis should represent $\\lambda$.\n",
    "2. The y-axis should be MSE.\n",
    "3. The plot should contain two lines with different colors: one for the MSE of your train data, and one for your test MSE.\n",
    "4. Finally, the plot should be annotated with two points (the cross in the example figure below) to show the minimum point on the test MSE curve.\n",
    "\n",
    "\n"
   ]
  },
  {
   "cell_type": "markdown",
   "metadata": {
    "id": "A9k5Vqbtv6Uv"
   },
   "source": [
    "The second figure will show how the model coefficients are forced to zero as $\\lambda$ increases. Follow these guidelines: \n",
    "1. The x-axis should represent $\\lambda$.\n",
    "2. The y-axis should be show coefficient magnitude.\n",
    "3. The plot should contain a line for the coefficient of each predictor. \n",
    "4. Include a vertical line to indicate the $\\lambda$ where the minimum test MSE occured.\n",
    "\n",
    "An example is included below. Remember to label your axis, include legends,  etc. \n",
    "\n",
    "![](https://docs.google.com/uc?export=download&id=11Jkr1789kE-IFRMWgrp5Sf3tO3mUnB1z) \n",
    "\n",
    "\n",
    "The maximum points achievable is 60. \n"
   ]
  },
  {
   "cell_type": "markdown",
   "metadata": {
    "id": "sJgky9GXXqV_"
   },
   "source": [
    "## 1. Setup and preprocessing [3]\n",
    "### 1.1. Import the libraries"
   ]
  },
  {
   "cell_type": "code",
   "execution_count": 188,
   "metadata": {
    "id": "nQdQgSApX0Wf"
   },
   "outputs": [],
   "source": [
    "import pandas as pd\n",
    "import numpy as np\n",
    "import matplotlib.pyplot as plt\n",
    "from sklearn.linear_model import Lasso\n",
    "from sklearn.model_selection import train_test_split\n",
    "from sklearn.preprocessing import PolynomialFeatures\n",
    "from sklearn.metrics import mean_squared_error\n",
    "import math\n",
    "from sklearn.pipeline import make_pipeline\n",
    "from sklearn.preprocessing import StandardScaler\n",
    "\n",
    "#this will mute errors that made your final pdf less legible\n",
    "import warnings\n",
    "warnings.filterwarnings('ignore')"
   ]
  },
  {
   "cell_type": "markdown",
   "metadata": {
    "id": "4MLv6desYawl"
   },
   "source": [
    "### 1.2. Load the CA housing dataset and pre-process our data\n",
    "\n",
    "The CA housing dataset is available on the course page. Download it, store it on your Google Drive and read it into Colab."
   ]
  },
  {
   "cell_type": "markdown",
   "metadata": {
    "id": "mjpAwOz_2pEi"
   },
   "source": [
    " Now we can read the data and create a dataframe. You will have to\n",
    "edit the path below to the file’s location on your Google Drive."
   ]
  },
  {
   "cell_type": "code",
   "execution_count": 190,
   "metadata": {
    "colab": {
     "base_uri": "https://localhost:8080/",
     "height": 204
    },
    "executionInfo": {
     "elapsed": 1069,
     "status": "ok",
     "timestamp": 1632887716006,
     "user": {
      "displayName": "Gerdus Benade",
      "photoUrl": "https://lh3.googleusercontent.com/a/default-user=s64",
      "userId": "10720838145833134874"
     },
     "user_tz": 240
    },
    "id": "dPKJG8pW-U0m",
    "outputId": "93aaffb1-1551-4839-9763-ba8411da3aaa"
   },
   "outputs": [
    {
     "data": {
      "text/html": [
       "<div>\n",
       "<style scoped>\n",
       "    .dataframe tbody tr th:only-of-type {\n",
       "        vertical-align: middle;\n",
       "    }\n",
       "\n",
       "    .dataframe tbody tr th {\n",
       "        vertical-align: top;\n",
       "    }\n",
       "\n",
       "    .dataframe thead th {\n",
       "        text-align: right;\n",
       "    }\n",
       "</style>\n",
       "<table border=\"1\" class=\"dataframe\">\n",
       "  <thead>\n",
       "    <tr style=\"text-align: right;\">\n",
       "      <th></th>\n",
       "      <th>longitude</th>\n",
       "      <th>latitude</th>\n",
       "      <th>housing_median_age</th>\n",
       "      <th>total_rooms</th>\n",
       "      <th>total_bedrooms</th>\n",
       "      <th>population</th>\n",
       "      <th>households</th>\n",
       "      <th>median_income</th>\n",
       "      <th>median_house_value</th>\n",
       "      <th>ocean_proximity</th>\n",
       "    </tr>\n",
       "  </thead>\n",
       "  <tbody>\n",
       "    <tr>\n",
       "      <th>0</th>\n",
       "      <td>-122.23</td>\n",
       "      <td>37.88</td>\n",
       "      <td>41.0</td>\n",
       "      <td>880.0</td>\n",
       "      <td>129.0</td>\n",
       "      <td>322.0</td>\n",
       "      <td>126.0</td>\n",
       "      <td>8.3252</td>\n",
       "      <td>452600.0</td>\n",
       "      <td>NEAR BAY</td>\n",
       "    </tr>\n",
       "    <tr>\n",
       "      <th>1</th>\n",
       "      <td>-122.22</td>\n",
       "      <td>37.86</td>\n",
       "      <td>21.0</td>\n",
       "      <td>7099.0</td>\n",
       "      <td>1106.0</td>\n",
       "      <td>2401.0</td>\n",
       "      <td>1138.0</td>\n",
       "      <td>8.3014</td>\n",
       "      <td>358500.0</td>\n",
       "      <td>NEAR BAY</td>\n",
       "    </tr>\n",
       "    <tr>\n",
       "      <th>2</th>\n",
       "      <td>-122.24</td>\n",
       "      <td>37.85</td>\n",
       "      <td>52.0</td>\n",
       "      <td>1467.0</td>\n",
       "      <td>190.0</td>\n",
       "      <td>496.0</td>\n",
       "      <td>177.0</td>\n",
       "      <td>7.2574</td>\n",
       "      <td>352100.0</td>\n",
       "      <td>NEAR BAY</td>\n",
       "    </tr>\n",
       "    <tr>\n",
       "      <th>3</th>\n",
       "      <td>-122.25</td>\n",
       "      <td>37.85</td>\n",
       "      <td>52.0</td>\n",
       "      <td>1274.0</td>\n",
       "      <td>235.0</td>\n",
       "      <td>558.0</td>\n",
       "      <td>219.0</td>\n",
       "      <td>5.6431</td>\n",
       "      <td>341300.0</td>\n",
       "      <td>NEAR BAY</td>\n",
       "    </tr>\n",
       "    <tr>\n",
       "      <th>4</th>\n",
       "      <td>-122.25</td>\n",
       "      <td>37.85</td>\n",
       "      <td>52.0</td>\n",
       "      <td>1627.0</td>\n",
       "      <td>280.0</td>\n",
       "      <td>565.0</td>\n",
       "      <td>259.0</td>\n",
       "      <td>3.8462</td>\n",
       "      <td>342200.0</td>\n",
       "      <td>NEAR BAY</td>\n",
       "    </tr>\n",
       "  </tbody>\n",
       "</table>\n",
       "</div>"
      ],
      "text/plain": [
       "   longitude  latitude  housing_median_age  total_rooms  total_bedrooms  \\\n",
       "0    -122.23     37.88                41.0        880.0           129.0   \n",
       "1    -122.22     37.86                21.0       7099.0          1106.0   \n",
       "2    -122.24     37.85                52.0       1467.0           190.0   \n",
       "3    -122.25     37.85                52.0       1274.0           235.0   \n",
       "4    -122.25     37.85                52.0       1627.0           280.0   \n",
       "\n",
       "   population  households  median_income  median_house_value ocean_proximity  \n",
       "0       322.0       126.0         8.3252            452600.0        NEAR BAY  \n",
       "1      2401.0      1138.0         8.3014            358500.0        NEAR BAY  \n",
       "2       496.0       177.0         7.2574            352100.0        NEAR BAY  \n",
       "3       558.0       219.0         5.6431            341300.0        NEAR BAY  \n",
       "4       565.0       259.0         3.8462            342200.0        NEAR BAY  "
      ]
     },
     "execution_count": 190,
     "metadata": {},
     "output_type": "execute_result"
    }
   ],
   "source": [
    "# load the data\n",
    "df = pd.read_csv('housing2019.csv')\n",
    "df.head()"
   ]
  },
  {
   "cell_type": "markdown",
   "metadata": {
    "id": "RM5v1SNFnzFx"
   },
   "source": [
    "The total_bedrooms column has missing data that we will impute using the median."
   ]
  },
  {
   "cell_type": "code",
   "execution_count": 191,
   "metadata": {
    "id": "E53FI2NLlzZO"
   },
   "outputs": [],
   "source": [
    "total_bedrooms_median = df[\"total_bedrooms\"].median()\n",
    "df[\"total_bedrooms\"].fillna(value=total_bedrooms_median, inplace=True)"
   ]
  },
  {
   "cell_type": "markdown",
   "metadata": {
    "id": "_YZaDKpReQwb"
   },
   "source": [
    "We will also remove the latitude and longitude columns from the data and use one-hot encoding on the ocean_proximity column"
   ]
  },
  {
   "cell_type": "code",
   "execution_count": 192,
   "metadata": {
    "id": "kDcJ2lEuehkn"
   },
   "outputs": [],
   "source": [
    "df.drop(labels=[\"longitude\", \"latitude\"], axis=1, inplace=True)"
   ]
  },
  {
   "cell_type": "markdown",
   "metadata": {
    "id": "pnRHyIJ2268x"
   },
   "source": [
    "We saw an example of how to do one-hot encoding using an sklearn transformer in class. For the sake of variety we'll use pandas here. "
   ]
  },
  {
   "cell_type": "code",
   "execution_count": 193,
   "metadata": {
    "colab": {
     "base_uri": "https://localhost:8080/",
     "height": 204
    },
    "executionInfo": {
     "elapsed": 171,
     "status": "ok",
     "timestamp": 1632887788410,
     "user": {
      "displayName": "Gerdus Benade",
      "photoUrl": "https://lh3.googleusercontent.com/a/default-user=s64",
      "userId": "10720838145833134874"
     },
     "user_tz": 240
    },
    "id": "JgdxhtYKPi00",
    "outputId": "1e7cb280-0e02-4589-d0ae-a747ab2e7449"
   },
   "outputs": [
    {
     "data": {
      "text/html": [
       "<div>\n",
       "<style scoped>\n",
       "    .dataframe tbody tr th:only-of-type {\n",
       "        vertical-align: middle;\n",
       "    }\n",
       "\n",
       "    .dataframe tbody tr th {\n",
       "        vertical-align: top;\n",
       "    }\n",
       "\n",
       "    .dataframe thead th {\n",
       "        text-align: right;\n",
       "    }\n",
       "</style>\n",
       "<table border=\"1\" class=\"dataframe\">\n",
       "  <thead>\n",
       "    <tr style=\"text-align: right;\">\n",
       "      <th></th>\n",
       "      <th>housing_median_age</th>\n",
       "      <th>total_rooms</th>\n",
       "      <th>total_bedrooms</th>\n",
       "      <th>population</th>\n",
       "      <th>households</th>\n",
       "      <th>median_income</th>\n",
       "      <th>median_house_value</th>\n",
       "      <th>&lt;1H OCEAN</th>\n",
       "      <th>INLAND</th>\n",
       "      <th>ISLAND</th>\n",
       "      <th>NEAR BAY</th>\n",
       "      <th>NEAR OCEAN</th>\n",
       "    </tr>\n",
       "  </thead>\n",
       "  <tbody>\n",
       "    <tr>\n",
       "      <th>0</th>\n",
       "      <td>41.0</td>\n",
       "      <td>880.0</td>\n",
       "      <td>129.0</td>\n",
       "      <td>322.0</td>\n",
       "      <td>126.0</td>\n",
       "      <td>8.3252</td>\n",
       "      <td>452600.0</td>\n",
       "      <td>0</td>\n",
       "      <td>0</td>\n",
       "      <td>0</td>\n",
       "      <td>1</td>\n",
       "      <td>0</td>\n",
       "    </tr>\n",
       "    <tr>\n",
       "      <th>1</th>\n",
       "      <td>21.0</td>\n",
       "      <td>7099.0</td>\n",
       "      <td>1106.0</td>\n",
       "      <td>2401.0</td>\n",
       "      <td>1138.0</td>\n",
       "      <td>8.3014</td>\n",
       "      <td>358500.0</td>\n",
       "      <td>0</td>\n",
       "      <td>0</td>\n",
       "      <td>0</td>\n",
       "      <td>1</td>\n",
       "      <td>0</td>\n",
       "    </tr>\n",
       "    <tr>\n",
       "      <th>2</th>\n",
       "      <td>52.0</td>\n",
       "      <td>1467.0</td>\n",
       "      <td>190.0</td>\n",
       "      <td>496.0</td>\n",
       "      <td>177.0</td>\n",
       "      <td>7.2574</td>\n",
       "      <td>352100.0</td>\n",
       "      <td>0</td>\n",
       "      <td>0</td>\n",
       "      <td>0</td>\n",
       "      <td>1</td>\n",
       "      <td>0</td>\n",
       "    </tr>\n",
       "    <tr>\n",
       "      <th>3</th>\n",
       "      <td>52.0</td>\n",
       "      <td>1274.0</td>\n",
       "      <td>235.0</td>\n",
       "      <td>558.0</td>\n",
       "      <td>219.0</td>\n",
       "      <td>5.6431</td>\n",
       "      <td>341300.0</td>\n",
       "      <td>0</td>\n",
       "      <td>0</td>\n",
       "      <td>0</td>\n",
       "      <td>1</td>\n",
       "      <td>0</td>\n",
       "    </tr>\n",
       "    <tr>\n",
       "      <th>4</th>\n",
       "      <td>52.0</td>\n",
       "      <td>1627.0</td>\n",
       "      <td>280.0</td>\n",
       "      <td>565.0</td>\n",
       "      <td>259.0</td>\n",
       "      <td>3.8462</td>\n",
       "      <td>342200.0</td>\n",
       "      <td>0</td>\n",
       "      <td>0</td>\n",
       "      <td>0</td>\n",
       "      <td>1</td>\n",
       "      <td>0</td>\n",
       "    </tr>\n",
       "  </tbody>\n",
       "</table>\n",
       "</div>"
      ],
      "text/plain": [
       "   housing_median_age  total_rooms  total_bedrooms  population  households  \\\n",
       "0                41.0        880.0           129.0       322.0       126.0   \n",
       "1                21.0       7099.0          1106.0      2401.0      1138.0   \n",
       "2                52.0       1467.0           190.0       496.0       177.0   \n",
       "3                52.0       1274.0           235.0       558.0       219.0   \n",
       "4                52.0       1627.0           280.0       565.0       259.0   \n",
       "\n",
       "   median_income  median_house_value  <1H OCEAN  INLAND  ISLAND  NEAR BAY  \\\n",
       "0         8.3252            452600.0          0       0       0         1   \n",
       "1         8.3014            358500.0          0       0       0         1   \n",
       "2         7.2574            352100.0          0       0       0         1   \n",
       "3         5.6431            341300.0          0       0       0         1   \n",
       "4         3.8462            342200.0          0       0       0         1   \n",
       "\n",
       "   NEAR OCEAN  \n",
       "0           0  \n",
       "1           0  \n",
       "2           0  \n",
       "3           0  \n",
       "4           0  "
      ]
     },
     "execution_count": 193,
     "metadata": {},
     "output_type": "execute_result"
    }
   ],
   "source": [
    "ocean_dummies = pd.get_dummies(df.ocean_proximity, )\n",
    "df.drop(labels=\"ocean_proximity\", axis=1, inplace=True)\n",
    "df = df.join(ocean_dummies)\n",
    "df.head()"
   ]
  },
  {
   "cell_type": "markdown",
   "metadata": {
    "id": "kix5NVFSX7cf"
   },
   "source": [
    "### 1.3. Visualize our Data and Try to Find Outliers (3 Points)\n",
    "Now that we have imputed null values, created our dummies, and added a helpful new predictor, we should check to make sure we do not have any outliers in our numerical columns. Particularly, let's see if there are any outliers in the population or total_rooms column. \n",
    "\n",
    "For this plot, use population as x and total_rooms as y to create a scatter plot."
   ]
  },
  {
   "cell_type": "code",
   "execution_count": 194,
   "metadata": {
    "colab": {
     "base_uri": "https://localhost:8080/",
     "height": 312
    },
    "executionInfo": {
     "elapsed": 530,
     "status": "ok",
     "timestamp": 1632887840581,
     "user": {
      "displayName": "Gerdus Benade",
      "photoUrl": "https://lh3.googleusercontent.com/a/default-user=s64",
      "userId": "10720838145833134874"
     },
     "user_tz": 240
    },
    "id": "7sSDEVRBYW4P",
    "outputId": "a6f08605-3be3-4167-be84-c03249f3ccee"
   },
   "outputs": [
    {
     "data": {
      "image/png": "[encoded data removed]",
      "text/plain": [
       "<Figure size 432x288 with 1 Axes>"
      ]
     },
     "metadata": {
      "needs_background": "light"
     },
     "output_type": "display_data"
    }
   ],
   "source": [
    "#Create a scatter plot with x as population and y as total rooms\n",
    "x = df['population']\n",
    "\n",
    "y = df['total_rooms']\n",
    "\n",
    "plt.scatter(x, y)\n",
    "plt.title('Scatterplot Population x Total Rooms')\n",
    "plt.xlabel('Population')\n",
    "plt.ylabel('Total Rooms')\n",
    "plt.show()"
   ]
  },
  {
   "cell_type": "markdown",
   "metadata": {
    "id": "EVgfOM9ucF8H"
   },
   "source": [
    "Based on this process, it looks like we have two instances with abnormally large populations and two instances with abnormally large total_rooms. Use filtering on your dataframe to remove these four outliers (you can do this one by one)"
   ]
  },
  {
   "cell_type": "code",
   "execution_count": 195,
   "metadata": {
    "id": "faWUUPxCcFi2"
   },
   "outputs": [],
   "source": [
    "#Filter out the 2 large instances on the population axis\n",
    "\n",
    "#q = df['population'].nlargest(2)\n",
    "#q2 = df['total_rooms'].nlargest(2)\n",
    "\n",
    "df = df.loc[df['population'] <= 25000]\n",
    "df = df.loc[df['total_rooms'] <= 35000]"
   ]
  },
  {
   "cell_type": "code",
   "execution_count": 196,
   "metadata": {
    "colab": {
     "base_uri": "https://localhost:8080/",
     "height": 312
    },
    "executionInfo": {
     "elapsed": 342,
     "status": "ok",
     "timestamp": 1632887894209,
     "user": {
      "displayName": "Gerdus Benade",
      "photoUrl": "https://lh3.googleusercontent.com/a/default-user=s64",
      "userId": "10720838145833134874"
     },
     "user_tz": 240
    },
    "id": "SB8BPd0FcznR",
    "outputId": "76c366db-1340-4703-eb88-229c886b027b"
   },
   "outputs": [
    {
     "data": {
      "image/png": "[encoded data removed]",
      "text/plain": [
       "<Figure size 432x288 with 1 Axes>"
      ]
     },
     "metadata": {
      "needs_background": "light"
     },
     "output_type": "display_data"
    }
   ],
   "source": [
    "#Create a scatter plot with x as population and y as total rooms\n",
    "\n",
    "x = df['population']\n",
    "y = df['total_rooms']\n",
    "\n",
    "plt.scatter(x, y)\n",
    "plt.title('Scatterplot Population x Total Rooms')\n",
    "plt.xlabel('Population')\n",
    "plt.ylabel('Total Rooms')\n",
    "plt.show()"
   ]
  },
  {
   "cell_type": "markdown",
   "metadata": {
    "id": "dkOG1j27c2FN"
   },
   "source": [
    "There are still some instances larger than others, but our scatter plot has less obvious outliers than before, so we can move into splitting the data."
   ]
  },
  {
   "cell_type": "markdown",
   "metadata": {
    "id": "AuYKm8-H3uxK"
   },
   "source": [
    "### 1.4. Create our training and testing sets"
   ]
  },
  {
   "cell_type": "markdown",
   "metadata": {
    "id": "b7hYCSS8o-9m"
   },
   "source": [
    "Next, we will split our dataset in train and test.\n",
    "For simplicity and consistency, we will use rows 0 to 5,000 as training data, and rows 15,001 to 18,000 as test\n",
    "data. (In practice, you would split your data in train and test randomly.)"
   ]
  },
  {
   "cell_type": "code",
   "execution_count": 197,
   "metadata": {
    "id": "R2lQypaRdL-k"
   },
   "outputs": [],
   "source": [
    "#Split into train and test\n",
    "X_train = df.loc[:5000, df.columns != \"median_house_value\"]\n",
    "y_train = df.loc[:5000, \"median_house_value\"][:, np.newaxis]\n",
    "\n",
    "X_test = df.loc[15000:18000, df.columns != \"median_house_value\"]\n",
    "y_test = df.loc[15000:18000, \"median_house_value\"][:, np.newaxis]\n",
    "\n",
    "#Select the numerical (non-categorical) predictor columns\n",
    "numerical = ['housing_median_age', 'total_rooms', 'total_bedrooms', 'population', \n",
    "             'households', 'median_income']"
   ]
  },
  {
   "cell_type": "markdown",
   "metadata": {
    "id": "FHlrUKxwqHi8"
   },
   "source": [
    "##2. Train exploratory models and do feature engineering [10]\n",
    "###2.1. Create a baseline model (2 points)\n",
    "Below, fit and evaluate a Lasso model using the default choice of $\\lambda$ (alpha), This will give us a baseline to see whether or not our model is improving."
   ]
  },
  {
   "cell_type": "code",
   "execution_count": 198,
   "metadata": {
    "id": "4-qnh14C65m7"
   },
   "outputs": [
    {
     "name": "stdout",
     "output_type": "stream",
     "text": [
      "115069.0042111281 13240875730.14062\n"
     ]
    }
   ],
   "source": [
    "# For each step (instantiate, fit, predict, assess)\n",
    "from sklearn.linear_model import LinearRegression \n",
    "from sklearn.linear_model import Lasso\n",
    "\n",
    "#instantiate\n",
    "lasso = Lasso()\n",
    "\n",
    "#fit\n",
    "lasso.fit(X_train, y_train)\n",
    "\n",
    "#predict\n",
    "y_test_predict = lasso.predict(X_test)  \n",
    "\n",
    "#assess\n",
    "baseline_mse = mean_squared_error(y_test, y_test_predict)\n",
    "print(np.sqrt(baseline_mse), baseline_mse)"
   ]
  },
  {
   "cell_type": "markdown",
   "metadata": {
    "id": "6-KP0ZiUt-Ou"
   },
   "source": [
    "### 2.2. Apply Log Transforms to Variables to Increase Predictive Power (5 points)\n",
    "In this section, we will investigate the distributions of some of our variables and see if a log transform is needed. Recall that a log transform may be useful when predictor values follow  a log-normal distribution, span several orders of magnitudes or are very skewed. "
   ]
  },
  {
   "cell_type": "markdown",
   "metadata": {
    "id": "y5ayqhN0wc3F"
   },
   "source": [
    "First, let's   look at some of our predictors and see if any of them follow a distribution other than the normal distribution. "
   ]
  },
  {
   "cell_type": "code",
   "execution_count": 199,
   "metadata": {
    "colab": {
     "base_uri": "https://localhost:8080/",
     "height": 296
    },
    "executionInfo": {
     "elapsed": 471,
     "status": "ok",
     "timestamp": 1632197844113,
     "user": {
      "displayName": "Tristan Tew",
      "photoUrl": "https://lh3.googleusercontent.com/a-/AOh14Ghmztu6IutYS9RnVKzl4nWCOi2SztGqcqBHni9U=s64",
      "userId": "02085914495416070385"
     },
     "user_tz": 240
    },
    "id": "5O1Myp2Mx774",
    "outputId": "bd41c9c2-92e2-4f64-9b44-d063273bb33c"
   },
   "outputs": [
    {
     "data": {
      "text/plain": [
       "Text(0.5, 1.0, 'households histogram')"
      ]
     },
     "execution_count": 199,
     "metadata": {},
     "output_type": "execute_result"
    },
    {
     "data": {
      "image/png": "[encoded data removed]",
      "text/plain": [
       "<Figure size 432x288 with 1 Axes>"
      ]
     },
     "metadata": {
      "needs_background": "light"
     },
     "output_type": "display_data"
    },
    {
     "data": {
      "image/png": "[encoded data removed]",
      "text/plain": [
       "<Figure size 432x288 with 1 Axes>"
      ]
     },
     "metadata": {
      "needs_background": "light"
     },
     "output_type": "display_data"
    },
    {
     "data": {
      "image/png": "[encoded data removed]",
      "text/plain": [
       "<Figure size 432x288 with 1 Axes>"
      ]
     },
     "metadata": {
      "needs_background": "light"
     },
     "output_type": "display_data"
    }
   ],
   "source": [
    "hist_columns = [ \"total_rooms\",\"population\", \"households\"]\n",
    "\n",
    "# For each column in hist_columns draw a histogram and vertical lines for the mean and median \n",
    "fig1 = plt.figure()\n",
    "ax1 = fig1.add_subplot(1, 1, 1)\n",
    "n, bins, patches = ax1.hist(df[\"total_rooms\"])\n",
    "\n",
    "plt.axvline(x=df[\"total_rooms\"].mean(),\n",
    "            color='black')\n",
    "plt.axvline(x=df[\"total_rooms\"].median(),\n",
    "            color='red')\n",
    "plt.xlabel(\"bins\")\n",
    "plt.ylabel(\"total rooms\")\n",
    "plt.title(\"total rooms histogram\")\n",
    "\n",
    "\n",
    "fig2 = plt.figure()\n",
    "ax2 = fig2.add_subplot(1, 1, 1)\n",
    "n, bins, patches = ax2.hist(df[\"population\"])\n",
    "\n",
    "plt.axvline(x=df[\"population\"].mean(),\n",
    "            color='black')\n",
    "plt.axvline(x=df[\"population\"].median(),\n",
    "            color='red')\n",
    "plt.xlabel(\"bins\")\n",
    "plt.ylabel(\"population\")\n",
    "plt.title(\"population histogram\")\n",
    "\n",
    "\n",
    "fig3 = plt.figure()\n",
    "ax3 = fig3.add_subplot(1, 1, 1)\n",
    "n, bins, patches = ax3.hist(df[\"households\"])\n",
    "\n",
    "plt.axvline(x=df[\"households\"].mean(),\n",
    "            color='black')\n",
    "plt.axvline(x=df[\"households\"].median(),\n",
    "            color='red')\n",
    "plt.xlabel(\"bins\")\n",
    "plt.ylabel(\"households\")\n",
    "plt.title(\"households histogram\")"
   ]
  },
  {
   "cell_type": "markdown",
   "metadata": {
    "id": "nbCj58dNyDbD"
   },
   "source": [
    "These variables do ll appear to be fairly skewed, let's see if a log-transform is useful here.  Below, you have a list of columns to apply a log transform to. \n",
    "For each of those columns $X_i$, replace their values with $\\log(X_i)$ by using np.log (or something similar) in both  X_test and X_train. We will use the transformed columns for the rest of the assignment. You may use any method you want, for example an sklearn function-transformer or a simple loop. "
   ]
  },
  {
   "cell_type": "code",
   "execution_count": 200,
   "metadata": {
    "id": "vjfqIo4X7Qkz"
   },
   "outputs": [
    {
     "data": {
      "text/html": [
       "<div>\n",
       "<style scoped>\n",
       "    .dataframe tbody tr th:only-of-type {\n",
       "        vertical-align: middle;\n",
       "    }\n",
       "\n",
       "    .dataframe tbody tr th {\n",
       "        vertical-align: top;\n",
       "    }\n",
       "\n",
       "    .dataframe thead th {\n",
       "        text-align: right;\n",
       "    }\n",
       "</style>\n",
       "<table border=\"1\" class=\"dataframe\">\n",
       "  <thead>\n",
       "    <tr style=\"text-align: right;\">\n",
       "      <th></th>\n",
       "      <th>housing_median_age</th>\n",
       "      <th>total_rooms</th>\n",
       "      <th>total_bedrooms</th>\n",
       "      <th>population</th>\n",
       "      <th>households</th>\n",
       "      <th>median_income</th>\n",
       "      <th>median_house_value</th>\n",
       "      <th>&lt;1H OCEAN</th>\n",
       "      <th>INLAND</th>\n",
       "      <th>ISLAND</th>\n",
       "      <th>NEAR BAY</th>\n",
       "      <th>NEAR OCEAN</th>\n",
       "    </tr>\n",
       "  </thead>\n",
       "  <tbody>\n",
       "    <tr>\n",
       "      <th>0</th>\n",
       "      <td>41.0</td>\n",
       "      <td>6.779922</td>\n",
       "      <td>129.0</td>\n",
       "      <td>5.774552</td>\n",
       "      <td>4.836282</td>\n",
       "      <td>8.3252</td>\n",
       "      <td>452600.0</td>\n",
       "      <td>0</td>\n",
       "      <td>0</td>\n",
       "      <td>0</td>\n",
       "      <td>1</td>\n",
       "      <td>0</td>\n",
       "    </tr>\n",
       "    <tr>\n",
       "      <th>1</th>\n",
       "      <td>21.0</td>\n",
       "      <td>8.867709</td>\n",
       "      <td>1106.0</td>\n",
       "      <td>7.783641</td>\n",
       "      <td>7.037028</td>\n",
       "      <td>8.3014</td>\n",
       "      <td>358500.0</td>\n",
       "      <td>0</td>\n",
       "      <td>0</td>\n",
       "      <td>0</td>\n",
       "      <td>1</td>\n",
       "      <td>0</td>\n",
       "    </tr>\n",
       "    <tr>\n",
       "      <th>2</th>\n",
       "      <td>52.0</td>\n",
       "      <td>7.290975</td>\n",
       "      <td>190.0</td>\n",
       "      <td>6.206576</td>\n",
       "      <td>5.176150</td>\n",
       "      <td>7.2574</td>\n",
       "      <td>352100.0</td>\n",
       "      <td>0</td>\n",
       "      <td>0</td>\n",
       "      <td>0</td>\n",
       "      <td>1</td>\n",
       "      <td>0</td>\n",
       "    </tr>\n",
       "    <tr>\n",
       "      <th>3</th>\n",
       "      <td>52.0</td>\n",
       "      <td>7.149917</td>\n",
       "      <td>235.0</td>\n",
       "      <td>6.324359</td>\n",
       "      <td>5.389072</td>\n",
       "      <td>5.6431</td>\n",
       "      <td>341300.0</td>\n",
       "      <td>0</td>\n",
       "      <td>0</td>\n",
       "      <td>0</td>\n",
       "      <td>1</td>\n",
       "      <td>0</td>\n",
       "    </tr>\n",
       "    <tr>\n",
       "      <th>4</th>\n",
       "      <td>52.0</td>\n",
       "      <td>7.394493</td>\n",
       "      <td>280.0</td>\n",
       "      <td>6.336826</td>\n",
       "      <td>5.556828</td>\n",
       "      <td>3.8462</td>\n",
       "      <td>342200.0</td>\n",
       "      <td>0</td>\n",
       "      <td>0</td>\n",
       "      <td>0</td>\n",
       "      <td>1</td>\n",
       "      <td>0</td>\n",
       "    </tr>\n",
       "  </tbody>\n",
       "</table>\n",
       "</div>"
      ],
      "text/plain": [
       "   housing_median_age  total_rooms  total_bedrooms  population  households  \\\n",
       "0                41.0     6.779922           129.0    5.774552    4.836282   \n",
       "1                21.0     8.867709          1106.0    7.783641    7.037028   \n",
       "2                52.0     7.290975           190.0    6.206576    5.176150   \n",
       "3                52.0     7.149917           235.0    6.324359    5.389072   \n",
       "4                52.0     7.394493           280.0    6.336826    5.556828   \n",
       "\n",
       "   median_income  median_house_value  <1H OCEAN  INLAND  ISLAND  NEAR BAY  \\\n",
       "0         8.3252            452600.0          0       0       0         1   \n",
       "1         8.3014            358500.0          0       0       0         1   \n",
       "2         7.2574            352100.0          0       0       0         1   \n",
       "3         5.6431            341300.0          0       0       0         1   \n",
       "4         3.8462            342200.0          0       0       0         1   \n",
       "\n",
       "   NEAR OCEAN  \n",
       "0           0  \n",
       "1           0  \n",
       "2           0  \n",
       "3           0  \n",
       "4           0  "
      ]
     },
     "execution_count": 200,
     "metadata": {},
     "output_type": "execute_result"
    }
   ],
   "source": [
    "transform_cols = [\"total_rooms\",\"population\",\"households\"]\n",
    "\n",
    "# for each of the above columns, apply the required transformation in both X_test and X_train\n",
    "\n",
    "for x in range(len(transform_cols)):\n",
    "    \n",
    "    current = transform_cols[x]\n",
    "    df[current] = np.log(df[current])\n",
    "\n",
    "df.head()"
   ]
  },
  {
   "cell_type": "markdown",
   "metadata": {
    "id": "0Z6CUR-hvVIN"
   },
   "source": [
    "Plot the transformed variables, and indicate the location of the mean and median as before. You will notice that the skew has been reduced.\n"
   ]
  },
  {
   "cell_type": "code",
   "execution_count": 201,
   "metadata": {
    "id": "lQ9N2QGL7vGY"
   },
   "outputs": [
    {
     "data": {
      "text/plain": [
       "Text(0.5, 1.0, 'households histogram')"
      ]
     },
     "execution_count": 201,
     "metadata": {},
     "output_type": "execute_result"
    },
    {
     "data": {
      "image/png": "[encoded data removed]",
      "text/plain": [
       "<Figure size 432x288 with 1 Axes>"
      ]
     },
     "metadata": {
      "needs_background": "light"
     },
     "output_type": "display_data"
    },
    {
     "data": {
      "image/png": "[encoded data removed]",
      "text/plain": [
       "<Figure size 432x288 with 1 Axes>"
      ]
     },
     "metadata": {
      "needs_background": "light"
     },
     "output_type": "display_data"
    },
    {
     "data": {
      "image/png": "[encoded data removed]",
      "text/plain": [
       "<Figure size 432x288 with 1 Axes>"
      ]
     },
     "metadata": {
      "needs_background": "light"
     },
     "output_type": "display_data"
    }
   ],
   "source": [
    "fig1 = plt.figure()\n",
    "ax1 = fig1.add_subplot(1, 1, 1)\n",
    "n, bins, patches = ax1.hist(df[\"total_rooms\"])\n",
    "plt.xlabel(\"bins\")\n",
    "plt.ylabel(\"total rooms\")\n",
    "plt.title(\"total rooms histogram\")\n",
    "\n",
    "plt.axvline(x=df[\"total_rooms\"].mean(),\n",
    "            color='black')\n",
    "plt.axvline(x=df[\"total_rooms\"].median(),\n",
    "            color='red')\n",
    "\n",
    "fig2 = plt.figure()\n",
    "ax2 = fig2.add_subplot(1, 1, 1)\n",
    "n, bins, patches = ax2.hist(df[\"population\"])\n",
    "\n",
    "plt.axvline(x=df[\"population\"].mean(),\n",
    "            color='black')\n",
    "plt.axvline(x=df[\"population\"].median(),\n",
    "            color='red')\n",
    "plt.xlabel(\"bins\")\n",
    "plt.ylabel(\"population\")\n",
    "plt.title(\"population histogram\")\n",
    "\n",
    "fig3 = plt.figure()\n",
    "ax3 = fig3.add_subplot(1, 1, 1)\n",
    "n, bins, patches = ax3.hist(df[\"households\"])\n",
    "\n",
    "plt.axvline(x=df[\"households\"].mean(),\n",
    "            color='black')\n",
    "plt.axvline(x=df[\"households\"].median(),\n",
    "            color='red')\n",
    "plt.xlabel(\"bins\")\n",
    "plt.ylabel(\"households\")\n",
    "plt.title(\"households histogram\")"
   ]
  },
  {
   "cell_type": "markdown",
   "metadata": {
    "id": "LKD0f3OWuf0L"
   },
   "source": [
    "Now that the training and testing sets have been transformed, build another model to see if this affected the accuracy of the model. "
   ]
  },
  {
   "cell_type": "code",
   "execution_count": 202,
   "metadata": {
    "colab": {
     "base_uri": "https://localhost:8080/"
    },
    "executionInfo": {
     "elapsed": 141,
     "status": "ok",
     "timestamp": 1632890061534,
     "user": {
      "displayName": "Gerdus Benade",
      "photoUrl": "https://lh3.googleusercontent.com/a/default-user=s64",
      "userId": "10720838145833134874"
     },
     "user_tz": 240
    },
    "id": "wBlzDHNVulh0",
    "outputId": "addf0049-1e04-4947-b0e7-acf07c3ff72f"
   },
   "outputs": [
    {
     "name": "stdout",
     "output_type": "stream",
     "text": [
      "13250434258.554272\n"
     ]
    }
   ],
   "source": [
    "transformed_mse = -1\n",
    "\n",
    "# build a new baseline model\n",
    "\n",
    "#instantiate\n",
    "lasso = Lasso(normalize = True)\n",
    "\n",
    "#fit\n",
    "lasso.fit(X_train, y_train)\n",
    "\n",
    "#predict\n",
    "y_test_predict = lasso.predict(X_test)  \n",
    "\n",
    "#assess\n",
    "trans_mse = mean_squared_error(y_test, y_test_predict)\n",
    "print(trans_mse)"
   ]
  },
  {
   "cell_type": "markdown",
   "metadata": {
    "id": "zUqFm4PSwbhQ"
   },
   "source": [
    "it's not a big change, but you'll notice that our accuracy has improved just from finding a different representation for some of our predictors. Now it's time to tune $\\lambda$."
   ]
  },
  {
   "cell_type": "markdown",
   "metadata": {
    "id": "3EttHEnH7Gdb"
   },
   "source": [
    "## 3. Tune $\\lambda$  [33]\n",
    "### 3.1. For each value of $\\lambda$, fit and evaluate a mode (10 points)\n",
    "\n",
    "Next, we will use the `Lasso()` class from Scikit-learn to fit a set of Lasso regressions for 100 different $\\lambda$ values. We generate\n",
    " (logarithmically) evenly spaced $\\lambda$'s between $10^{-3}$ and $10^3$ with Numpy. "
   ]
  },
  {
   "cell_type": "code",
   "execution_count": 203,
   "metadata": {
    "id": "myc5KDG25YyB"
   },
   "outputs": [],
   "source": [
    "num_lambdas = 30\n",
    "lambdas = np.logspace(2, 5, num_lambdas)"
   ]
  },
  {
   "cell_type": "markdown",
   "metadata": {
    "id": "OoxiAEI55i9w"
   },
   "source": [
    "The following data structures should capture each model's predictions and coefficients. Note that `y_train_hat` has a number of rows equal to the number of training instances we have and  100 columns, one for each of the models we will train.  "
   ]
  },
  {
   "cell_type": "code",
   "execution_count": 204,
   "metadata": {
    "id": "j8MJZZJ05apX"
   },
   "outputs": [],
   "source": [
    "y_train_hat = np.zeros((y_train.shape[0], num_lambdas))\n",
    "y_test_hat = np.zeros((y_test.shape[0], num_lambdas))\n",
    "coefficients = np.zeros((X_train.shape[1], num_lambdas))\n"
   ]
  },
  {
   "cell_type": "markdown",
   "metadata": {
    "id": "BCGAYcZW6VJ6"
   },
   "source": [
    "Now we are ready to fit our models by looping through the vector of regularization parameters. "
   ]
  },
  {
   "cell_type": "code",
   "execution_count": 205,
   "metadata": {
    "id": "mw9jND3JCWNa"
   },
   "outputs": [
    {
     "name": "stdout",
     "output_type": "stream",
     "text": [
      "[[ 6.48293557e+03  6.45875942e+03  6.42671604e+03  6.37714813e+03\n",
      "   6.31413029e+03  6.23531319e+03  6.13589242e+03  6.00970472e+03\n",
      "   5.84982084e+03  5.64707075e+03  5.38990131e+03  5.06382199e+03\n",
      "   4.64974029e+03  4.12440237e+03  3.41866402e+03  2.45250270e+03\n",
      "   1.12235072e+03  0.00000000e+00  0.00000000e+00  0.00000000e+00\n",
      "   0.00000000e+00  0.00000000e+00  0.00000000e+00  0.00000000e+00\n",
      "   0.00000000e+00  0.00000000e+00  0.00000000e+00  0.00000000e+00\n",
      "   0.00000000e+00  0.00000000e+00]\n",
      " [-9.09989650e+02 -4.99647139e+02 -0.00000000e+00 -0.00000000e+00\n",
      "  -0.00000000e+00 -0.00000000e+00  0.00000000e+00  0.00000000e+00\n",
      "   0.00000000e+00  0.00000000e+00  0.00000000e+00  0.00000000e+00\n",
      "   0.00000000e+00  0.00000000e+00  0.00000000e+00  0.00000000e+00\n",
      "   0.00000000e+00  0.00000000e+00  0.00000000e+00  0.00000000e+00\n",
      "   0.00000000e+00  0.00000000e+00  0.00000000e+00  0.00000000e+00\n",
      "   0.00000000e+00  0.00000000e+00  0.00000000e+00  0.00000000e+00\n",
      "   0.00000000e+00  0.00000000e+00]\n",
      " [ 1.77565135e+04  1.76241852e+04  1.74576558e+04  1.74975336e+04\n",
      "   1.75390274e+04  1.76026048e+04  1.77098425e+04  1.78487495e+04\n",
      "   1.80326133e+04  1.82700490e+04  1.85747202e+04  1.89690733e+04\n",
      "   1.94605271e+04  2.00876208e+04  1.79460278e+04  1.09791217e+04\n",
      "   6.43991890e+03  5.05807101e+03  3.76380792e+03  2.12125566e+03\n",
      "   3.51306489e+00  0.00000000e+00  0.00000000e+00  0.00000000e+00\n",
      "   0.00000000e+00  0.00000000e+00  0.00000000e+00  0.00000000e+00\n",
      "   0.00000000e+00  0.00000000e+00]\n",
      " [-4.18570599e+04 -4.16038430e+04 -4.12765212e+04 -4.07700301e+04\n",
      "  -4.01215163e+04 -3.92902928e+04 -3.82400166e+04 -3.69104211e+04\n",
      "  -3.52211837e+04 -3.30763604e+04 -3.03536134e+04 -2.68961237e+04\n",
      "  -2.25115216e+04 -1.69465459e+04 -1.06664054e+04 -3.77724305e+03\n",
      "  -0.00000000e+00 -0.00000000e+00 -0.00000000e+00  0.00000000e+00\n",
      "   0.00000000e+00  0.00000000e+00  0.00000000e+00  0.00000000e+00\n",
      "   0.00000000e+00  0.00000000e+00  0.00000000e+00  0.00000000e+00\n",
      "   0.00000000e+00  0.00000000e+00]\n",
      " [ 3.22350671e+04  3.17384070e+04  3.11202422e+04  3.05727117e+04\n",
      "   2.98816609e+04  2.89866087e+04  2.78288799e+04  2.63598304e+04\n",
      "   2.44864223e+04  2.21039995e+04  1.90765613e+04  1.52251260e+04\n",
      "   1.03490852e+04  4.15722876e+03  0.00000000e+00  0.00000000e+00\n",
      "   0.00000000e+00  0.00000000e+00  0.00000000e+00  0.00000000e+00\n",
      "   0.00000000e+00  0.00000000e+00  0.00000000e+00  0.00000000e+00\n",
      "   0.00000000e+00  0.00000000e+00  0.00000000e+00  0.00000000e+00\n",
      "   0.00000000e+00  0.00000000e+00]\n",
      " [ 6.48596304e+04  6.47222190e+04  6.45531960e+04  6.45193973e+04\n",
      "   6.44763205e+04  6.44225086e+04  6.43549413e+04  6.42692174e+04\n",
      "   6.41606942e+04  6.40231248e+04  6.38486718e+04  6.36275670e+04\n",
      "   6.33466816e+04  6.29903694e+04  6.24461087e+04  6.16207259e+04\n",
      "   6.05895082e+04  5.94427128e+04  5.83039613e+04  5.68590225e+04\n",
      "   5.48247622e+04  5.21223833e+04  4.86930135e+04  4.43412770e+04\n",
      "   3.88190915e+04  3.18900157e+04  2.31170445e+04  1.05420865e+04\n",
      "   0.00000000e+00  0.00000000e+00]\n",
      " [ 2.14487980e+04  2.14478758e+04  2.14423444e+04  2.13778029e+04\n",
      "   2.12951233e+04  2.11909060e+04  2.10593087e+04  2.08926294e+04\n",
      "   2.06809101e+04  2.04121185e+04  2.00709246e+04  1.96377134e+04\n",
      "   1.90882745e+04  1.83909464e+04  1.75749913e+04  1.66360841e+04\n",
      "   1.59105686e+04  1.54728988e+04  1.50138285e+04  1.44320803e+04\n",
      "   1.32232264e+04  1.11422848e+04  8.49984503e+03  5.14669198e+03\n",
      "   8.91645110e+02  0.00000000e+00  0.00000000e+00  0.00000000e+00\n",
      "   0.00000000e+00  0.00000000e+00]\n",
      " [-2.93848467e+04 -2.94307917e+04 -2.94894259e+04 -2.95168270e+04\n",
      "  -2.95519504e+04 -2.95957835e+04 -2.96512915e+04 -2.97216031e+04\n",
      "  -2.98110112e+04 -2.99245743e+04 -3.00687710e+04 -3.02519577e+04\n",
      "  -3.04841750e+04 -3.07789420e+04 -3.10488707e+04 -3.12529313e+04\n",
      "  -3.13798086e+04 -3.10733400e+04 -2.99433006e+04 -2.85088332e+04\n",
      "  -2.72005541e+04 -2.57148347e+04 -2.38301752e+04 -2.14386158e+04\n",
      "  -1.84038353e+04 -1.19960499e+04 -3.22305891e+03 -0.00000000e+00\n",
      "  -0.00000000e+00 -0.00000000e+00]\n",
      " [ 0.00000000e+00  0.00000000e+00  0.00000000e+00  0.00000000e+00\n",
      "   0.00000000e+00  0.00000000e+00  0.00000000e+00  0.00000000e+00\n",
      "   0.00000000e+00  0.00000000e+00  0.00000000e+00  0.00000000e+00\n",
      "   0.00000000e+00  0.00000000e+00  0.00000000e+00  0.00000000e+00\n",
      "   0.00000000e+00  0.00000000e+00  0.00000000e+00  0.00000000e+00\n",
      "   0.00000000e+00  0.00000000e+00  0.00000000e+00  0.00000000e+00\n",
      "   0.00000000e+00  0.00000000e+00  0.00000000e+00  0.00000000e+00\n",
      "   0.00000000e+00  0.00000000e+00]\n",
      " [ 0.00000000e+00  0.00000000e+00  0.00000000e+00  0.00000000e+00\n",
      "   0.00000000e+00  0.00000000e+00  0.00000000e+00  0.00000000e+00\n",
      "   0.00000000e+00  0.00000000e+00  0.00000000e+00  0.00000000e+00\n",
      "   0.00000000e+00  0.00000000e+00  0.00000000e+00  0.00000000e+00\n",
      "   0.00000000e+00  0.00000000e+00  0.00000000e+00  0.00000000e+00\n",
      "   0.00000000e+00  0.00000000e+00  0.00000000e+00  0.00000000e+00\n",
      "   0.00000000e+00  0.00000000e+00  0.00000000e+00  0.00000000e+00\n",
      "   0.00000000e+00  0.00000000e+00]\n",
      " [-8.76059635e+03 -8.74759844e+03 -8.73104591e+03 -8.69365032e+03\n",
      "  -8.64624155e+03 -8.58570188e+03 -8.50879734e+03 -8.41121209e+03\n",
      "  -8.28736219e+03 -8.13019134e+03 -7.93073925e+03 -7.67762302e+03\n",
      "  -7.35645077e+03 -6.94888708e+03 -6.43127599e+03 -5.77586568e+03\n",
      "  -4.96856358e+03 -3.90622632e+03 -2.42284020e+03 -5.40337315e+02\n",
      "  -0.00000000e+00 -0.00000000e+00 -0.00000000e+00 -0.00000000e+00\n",
      "  -0.00000000e+00 -0.00000000e+00 -0.00000000e+00 -0.00000000e+00\n",
      "  -0.00000000e+00 -0.00000000e+00]]\n"
     ]
    }
   ],
   "source": [
    "# Iterate over lambdas, train a model, make predictions, store coeff.\n",
    "\n",
    "for i, current_lambda in enumerate(lambdas):\n",
    "\n",
    "     # instantiate and fit model \n",
    "        lasso = make_pipeline(StandardScaler(), Lasso(alpha = current_lambda))\n",
    "        #lasso = Lasso(alpha = current_lambda)\n",
    "        \n",
    "        lasso.fit(X_train, y_train)\n",
    "\n",
    "     # make predictions on the training and testing sets \n",
    "        \n",
    "        pred_ytrain = lasso.predict(X_train)\n",
    "        pred_ytest = lasso.predict(X_test)\n",
    "        \n",
    "        y_train_hat[:, i] = pred_ytrain\n",
    "        y_test_hat[:, i] = pred_ytest\n",
    "        coefficients[:, i] = lasso[-1].coef_ \n",
    "        \n",
    "print(coefficients)\n",
    "#print(y_test_hat)\n",
    "#print(y_train_hat)"
   ]
  },
  {
   "cell_type": "markdown",
   "metadata": {
    "id": "ssnNLtgW6IXm"
   },
   "source": [
    "### 3.2. Compute MSEs (5 points)\n",
    "Using these predictions, we are now ready to compute MSEs. Specifically, we want to create two MSE vectors called `mse_train` and `mse_test`, respectively, each containing 100 different values (one for each model we trained). "
   ]
  },
  {
   "cell_type": "code",
   "execution_count": 206,
   "metadata": {
    "id": "aZCN4LIA91eN"
   },
   "outputs": [
    {
     "name": "stdout",
     "output_type": "stream",
     "text": [
      "[17798528754232.035, 17800138779676.156, 17802684955651.574, 17804799382565.527, 17808236616587.96, 17813827198865.613, 17822808985310.93, 17837259335775.098, 17860566229464.348, 17898140694204.75, 17958703035035.75, 18056333131266.777, 18213548194683.098, 18466830138833.137, 18838189942265.902, 19380588738347.414, 19849101051980.906, 20126484346632.15, 20484827514056.746, 21061849636068.938, 21812812412048.1, 22646991795393.715, 23989780444237.47, 26152035819111.656, 29633854942089.277, 34526984198527.24, 42205334240650.695, 50854951608560.82, 57958864349459.16, 57958864349459.16]\n",
      "[39758783763415.56, 39766150894398.734, 39773965876132.375, 39728595847519.81, 39671747680920.58, 39600654420461.98, 39512007772200.63, 39402433906207.27, 39268003391183.7, 39104962668545.97, 38910273183930.21, 38682865727489.47, 38426143394947.75, 38151485434951.29, 37876313843148.55, 37632313479001.68, 37208221715906.4, 36326402965501.82, 34935819014872.117, 33406040023998.66, 33174930927568.223, 33340074774015.746, 33715121648552.324, 34458748328611.83, 35833451458858.34, 39689081975967.76, 45996612940080.2, 52913164898371.66, 58481544573497.445, 58481544573497.445]\n"
     ]
    }
   ],
   "source": [
    "# mse_train, mse_test = None, None\n",
    "# # your code here\n",
    "\n",
    "mse_train = []\n",
    "mse_test = []\n",
    "\n",
    "\n",
    "for c in range(len(y_train_hat[0])): #100\n",
    "    dif = 0\n",
    "    num_c = c\n",
    "    for r in range(len(y_train_hat)): #5001\n",
    "        dif += (y_train[r] - y_train_hat[r][num_c])**2\n",
    "    \n",
    "    dif = np.mean(dif)\n",
    "    mse_train.append(dif)\n",
    "    \n",
    "\n",
    "for c in range(len(y_test_hat[0])):\n",
    "    dif = 0\n",
    "    num_c = c\n",
    "    for r in range(len(y_test_hat)):\n",
    "        dif += (y_test[r] - y_test_hat[r][num_c])**2\n",
    "    \n",
    "    dif = np.mean(dif)\n",
    "    mse_test.append(dif)\n",
    "\n",
    "\n",
    "print(mse_train)\n",
    "print(mse_test)"
   ]
  },
  {
   "cell_type": "markdown",
   "metadata": {
    "id": "n1_B9yNT-Hyr"
   },
   "source": [
    "'l### 3.3. Plot the model accuracy as $\\lambda$ changes (9 points)"
   ]
  },
  {
   "cell_type": "markdown",
   "metadata": {
    "id": "qGV9FVpg-hel"
   },
   "source": [
    "First, it will be helpful to determine which choice of $\\lambda$ lead to the smallest test MSE.  We will store the index of this $\\lambda$ value in a variable called `minidx`. Also create a variable for the lowest value in mse_test called `tuned_mse`."
   ]
  },
  {
   "cell_type": "code",
   "execution_count": 207,
   "metadata": {
    "id": "uVsRckn2-8OD"
   },
   "outputs": [
    {
     "name": "stdout",
     "output_type": "stream",
     "text": [
      "33174930927568.223\n",
      "20\n"
     ]
    }
   ],
   "source": [
    "# minidx = \n",
    "\n",
    "# tuned_mse = # your code here\n",
    "tuned_mse = min(mse_test)\n",
    "print(tuned_mse)\n",
    "\n",
    "minidx = mse_test.index(min(mse_test))\n",
    "print(minidx)"
   ]
  },
  {
   "cell_type": "markdown",
   "metadata": {
    "id": "PpyB8cnE_A_c"
   },
   "source": [
    "Now we have everything we need to create the first figure. You may have to brush up on your matplotlib skills, and remember to include a legend and label your axes. "
   ]
  },
  {
   "cell_type": "code",
   "execution_count": 208,
   "metadata": {
    "id": "-GVIqTHV_Q8o"
   },
   "outputs": [
    {
     "data": {
      "image/png": "[encoded data removed]",
      "text/plain": [
       "<Figure size 432x288 with 1 Axes>"
      ]
     },
     "metadata": {
      "needs_background": "light"
     },
     "output_type": "display_data"
    }
   ],
   "source": [
    "# plt.plot(lambdas, ..., label= ...)\n",
    "\n",
    "fig,ax=plt.subplots()\n",
    "\n",
    "ax.plot(lambdas, mse_test, label = \"MSE Test\")\n",
    "ax.plot(lambdas, mse_train, label = \"MSE Train\")\n",
    "ax.plot(lambdas[minidx], mse_test[minidx], marker = 'o')\n",
    "\n",
    "ax.set_xscale('log')\n",
    "\n",
    "ax.set_xlabel(\"λ\")\n",
    "ax.set_ylabel(\"MSE\")\n",
    "ax.set_title(\"Train MSE as Lambda Changes\")\n",
    "\n",
    "\n",
    "plt.show()"
   ]
  },
  {
   "cell_type": "markdown",
   "metadata": {
    "id": "osGCvSDs26gd"
   },
   "source": [
    "Now that we have tuned our model, let's take a quick look at how much our model has improved. Print baseline_mse, transformed_mse, and tuned_mse. Below you can see how MSE test has improved as we've applied different steps. We can also see that with a few lines of code and extra steps, we can radically increase model accuracy without adding new features. "
   ]
  },
  {
   "cell_type": "code",
   "execution_count": 209,
   "metadata": {
    "colab": {
     "base_uri": "https://localhost:8080/"
    },
    "executionInfo": {
     "elapsed": 126,
     "status": "ok",
     "timestamp": 1632890066606,
     "user": {
      "displayName": "Gerdus Benade",
      "photoUrl": "https://lh3.googleusercontent.com/a/default-user=s64",
      "userId": "10720838145833134874"
     },
     "user_tz": 240
    },
    "id": "LEeGpyXX24ol",
    "outputId": "f662bf42-65ab-46a7-b96c-9ffe3ea9ed02"
   },
   "outputs": [
    {
     "name": "stdout",
     "output_type": "stream",
     "text": [
      "Baseline MSE: 13240875730.14062\n",
      "Transformed MSE: -1\n",
      "Tuned MSE: 33174930927568.223\n",
      "Total % Change in MSE: -2504.4937153477763\n"
     ]
    }
   ],
   "source": [
    "print('Baseline MSE:', baseline_mse)\n",
    "print('Transformed MSE:', transformed_mse)\n",
    "print('Tuned MSE:', tuned_mse)\n",
    "\n",
    "print('Total % Change in MSE:', (baseline_mse-(tuned_mse))/baseline_mse)"
   ]
  },
  {
   "cell_type": "markdown",
   "metadata": {
    "id": "ygLMOD9CTNp6"
   },
   "source": [
    "### 3.4. Reflecting on Bias-Variance Tradeoff in Regard to Model Performance (5 points)\n",
    "\n",
    "In 3-4 sentences discuss how the bias-variance tradeoff explains what we see in the chart depicting test and train MSE over our lambdas. For example, talk about how bias and variance are related to lambda and what an increased lambda does here. Feel free to talk about over and underfitting (4 points). "
   ]
  },
  {
   "cell_type": "markdown",
   "metadata": {
    "id": "7j_M_viV8Z8u"
   },
   "source": [
    "The whole point of regularized regression, using Lasso and Ridge, is to add a little bit of bias into the model so that you can reduce variance (MSE). With Lasso and Ridge, the lambda penalty is essentially how far off you are going to push it from the testing set. Therefore, when you increase lambda, bias and variance will move inversely; with bias increasing and variance decreasing. Within the graph, you can see that as lambda increases the testing MSE decreases and the training MSE increases."
   ]
  },
  {
   "cell_type": "markdown",
   "metadata": {
    "id": "_JWkOGCmCRe1"
   },
   "source": [
    "### 3.5. Feature engineering (4 points)\n",
    "As we see above, tuning and transforming increased model performance by reducing MSE. Another way to do this, however, is feature engineering.\n",
    "\n",
    "Remember that when doing feature engineering the idea is to find a higher-dimensional representation of the data that enables your estimator to learn additional structure. We can do this either by taking combinations of existing predictors, or by finding entirely new data and appending it to our dataset. One step we did not apply to this assignment was to create new features, though it could have helped our MSE improve even more. \n",
    "\n",
    "Suggest at least 1 new predictor that is derived from the current dataset, and at least one new predictor for which you will have to find external data sources. For the predictor using external data, where will you find it and what processing do you expect to have to do?"
   ]
  },
  {
   "cell_type": "markdown",
   "metadata": {
    "id": "SrxofmCs8eu6"
   },
   "source": [
    "1 new predictor derived from current dataset: using longitude and lattitude variables to create a set of neighborhoods. I think this could be helpful since neighborhood and location often can determine median home prices. Or something in general with longitude and latitude I feel like could potentially enable a better fit.\n",
    "\n",
    "1 new predictor from external source: mean sqrt feet per home. I think this would be very useful. Square feet largely affects property value, so a higher median square feet per home would be a great predictor to add. In ordr to find this, you would need to find a dataset that had the same longitudes and lattitudes and median square feet or total which could be divided by population. "
   ]
  },
  {
   "cell_type": "markdown",
   "metadata": {
    "id": "cC2hM55L_tDr"
   },
   "source": [
    "## 4. Investigate model coefficients [11]\n",
    "###4.1.  Plot coefficient sizes as $\\lambda$ changes (8 points)\n",
    "\n"
   ]
  },
  {
   "cell_type": "markdown",
   "metadata": {
    "id": "xz_C10sDAQjW"
   },
   "source": [
    "We are ready to create the second figure and see how the regularization  affected the   coefficients of our model.  Since we want a line for the coefficient of every predictor, it may be useful to loop over the predictors: "
   ]
  },
  {
   "cell_type": "code",
   "execution_count": 210,
   "metadata": {
    "id": "fSGvT11wA0IZ"
   },
   "outputs": [
    {
     "name": "stdout",
     "output_type": "stream",
     "text": [
      "11\n"
     ]
    },
    {
     "data": {
      "image/png": "[encoded data removed]",
      "text/plain": [
       "<Figure size 432x288 with 1 Axes>"
      ]
     },
     "metadata": {
      "needs_background": "light"
     },
     "output_type": "display_data"
    }
   ],
   "source": [
    "num_predictors = X_train.shape[1]\n",
    "\n",
    "print(num_predictors)\n",
    "\n",
    "\n",
    "for i in range(num_predictors):\n",
    "    current = i\n",
    "    plt.plot(lambdas, coefficients[i, :], label=X_test.columns[i])\n",
    "    \n",
    "plt.vlines(lambdas[minidx], -100000, 100000, linestyles = 'dotted')\n",
    "plt.legend(bbox_to_anchor=(1.05, 1), loc = 'upper left')\n",
    "\n",
    "plt.xticks(lambdas)\n",
    "plt.xscale('log')\n",
    "\n",
    "plt.xlabel(\"$\\lambda$\")\n",
    "plt.ylabel(\"coefficient\")\n",
    "\n",
    "plt.show()"
   ]
  },
  {
   "cell_type": "markdown",
   "metadata": {
    "id": "n1eu3CIVBHDB"
   },
   "source": [
    "### 4.1. Discuss the coefficients of our best fitting model (3 points)\n",
    "\n",
    "We already extracted the index of the model that performed best on the test set, so let's take a look at the coefficients of our best model to learn more. \n",
    "\n",
    "Suppose  you are considering investing in CA real estate: What are the main drivers of price in this market? Discuss brieﬂy in 1-2 sentences.\n"
   ]
  },
  {
   "cell_type": "markdown",
   "metadata": {
    "id": "Wo6FOQtR8qoV"
   },
   "source": [
    "The coefficients that were the strongest on our best fitting model were: median income, inland, and less than 1 hour from the ocean. Out of these three, median income was especially strong. We can tell these are important predictors for the market since as lambda increased their values were still not at 0."
   ]
  },
  {
   "cell_type": "markdown",
   "metadata": {
    "id": "qNINwgn38vj-"
   },
   "source": [
    "*Answer*"
   ]
  },
  {
   "cell_type": "markdown",
   "metadata": {
    "id": "WIn96PNDM-Vj"
   },
   "source": [
    "## Preparing for submission\n",
    "\n",
    "To convert your notebook to html, change the string below to reflect the location of the notebook in your Google Drive. "
   ]
  },
  {
   "cell_type": "code",
   "execution_count": 211,
   "metadata": {
    "id": "C91LHZ3LNP8o"
   },
   "outputs": [],
   "source": [
    "path_to_file = '/content/drive/My Drive/ba476-test/2021Fall/updates/PA1-regularised-regression.ipynb'"
   ]
  },
  {
   "cell_type": "markdown",
   "metadata": {
    "id": "e1I8z4UZNOUE"
   },
   "source": [
    "Now execute the code cell below. It will take a minute or two to run. After execution there should be an html file in the same Google Drive folder  where this notebook is located. Download the html file, open with your browser and print to pdf, then submit the pdf on the course page along with your notebook.\n",
    "\n",
    "Note: this block of code occasionally gives trouble if your path contains spaces. If this happens please change your path/the location of the file and try again. "
   ]
  },
  {
   "cell_type": "code",
   "execution_count": 212,
   "metadata": {
    "colab": {
     "base_uri": "https://localhost:8080/"
    },
    "executionInfo": {
     "elapsed": 2260,
     "status": "ok",
     "timestamp": 1632892701505,
     "user": {
      "displayName": "Gerdus Benade",
      "photoUrl": "https://lh3.googleusercontent.com/a/default-user=s64",
      "userId": "10720838145833134874"
     },
     "user_tz": 240
    },
    "id": "etZbw31NDLwv",
    "outputId": "d28b2dbd-ef79-4111-faf3-f278c454d830"
   },
   "outputs": [
    {
     "name": "stderr",
     "output_type": "stream",
     "text": [
      "'apt' is not recognized as an internal or external command,\n",
      "operable program or batch file.\n",
      "'apt' is not recognized as an internal or external command,\n",
      "operable program or batch file.\n"
     ]
    },
    {
     "ename": "NotImplementedError",
     "evalue": "cannot instantiate 'PosixPath' on your system",
     "output_type": "error",
     "traceback": [
      "\u001b[1;31m---------------------------------------------------------------------------\u001b[0m",
      "\u001b[1;31mNotImplementedError\u001b[0m                       Traceback (most recent call last)",
      "\u001b[1;32m~\\AppData\\Local\\Temp/ipykernel_9856/1103713798.py\u001b[0m in \u001b[0;36m<module>\u001b[1;34m\u001b[0m\n\u001b[0;32m      3\u001b[0m \u001b[1;33m\u001b[0m\u001b[0m\n\u001b[0;32m      4\u001b[0m \u001b[1;32mimport\u001b[0m \u001b[0mre\u001b[0m\u001b[1;33m,\u001b[0m \u001b[0mpathlib\u001b[0m\u001b[1;33m,\u001b[0m \u001b[0mshutil\u001b[0m\u001b[1;33m\u001b[0m\u001b[1;33m\u001b[0m\u001b[0m\n\u001b[1;32m----> 5\u001b[1;33m \u001b[0mnbpath\u001b[0m \u001b[1;33m=\u001b[0m \u001b[0mpathlib\u001b[0m\u001b[1;33m.\u001b[0m\u001b[0mPosixPath\u001b[0m\u001b[1;33m(\u001b[0m\u001b[0mpath_to_file\u001b[0m\u001b[1;33m)\u001b[0m\u001b[1;33m\u001b[0m\u001b[1;33m\u001b[0m\u001b[0m\n\u001b[0m\u001b[0;32m      6\u001b[0m \u001b[0mget_ipython\u001b[0m\u001b[1;33m(\u001b[0m\u001b[1;33m)\u001b[0m\u001b[1;33m.\u001b[0m\u001b[0msystem\u001b[0m\u001b[1;33m(\u001b[0m\u001b[1;34m'jupyter nbconvert \"{nbpath.as_posix()}\" --to html --output \"{nbpath.stem.replace(\" \", \"_\")}\"'\u001b[0m\u001b[1;33m)\u001b[0m\u001b[1;33m\u001b[0m\u001b[1;33m\u001b[0m\u001b[0m\n",
      "\u001b[1;32m~\\anaconda3\\lib\\pathlib.py\u001b[0m in \u001b[0;36m__new__\u001b[1;34m(cls, *args, **kwargs)\u001b[0m\n\u001b[0;32m   1041\u001b[0m         \u001b[0mself\u001b[0m \u001b[1;33m=\u001b[0m \u001b[0mcls\u001b[0m\u001b[1;33m.\u001b[0m\u001b[0m_from_parts\u001b[0m\u001b[1;33m(\u001b[0m\u001b[0margs\u001b[0m\u001b[1;33m,\u001b[0m \u001b[0minit\u001b[0m\u001b[1;33m=\u001b[0m\u001b[1;32mFalse\u001b[0m\u001b[1;33m)\u001b[0m\u001b[1;33m\u001b[0m\u001b[1;33m\u001b[0m\u001b[0m\n\u001b[0;32m   1042\u001b[0m         \u001b[1;32mif\u001b[0m \u001b[1;32mnot\u001b[0m \u001b[0mself\u001b[0m\u001b[1;33m.\u001b[0m\u001b[0m_flavour\u001b[0m\u001b[1;33m.\u001b[0m\u001b[0mis_supported\u001b[0m\u001b[1;33m:\u001b[0m\u001b[1;33m\u001b[0m\u001b[1;33m\u001b[0m\u001b[0m\n\u001b[1;32m-> 1043\u001b[1;33m             raise NotImplementedError(\"cannot instantiate %r on your system\"\n\u001b[0m\u001b[0;32m   1044\u001b[0m                                       % (cls.__name__,))\n\u001b[0;32m   1045\u001b[0m         \u001b[0mself\u001b[0m\u001b[1;33m.\u001b[0m\u001b[0m_init\u001b[0m\u001b[1;33m(\u001b[0m\u001b[1;33m)\u001b[0m\u001b[1;33m\u001b[0m\u001b[1;33m\u001b[0m\u001b[0m\n",
      "\u001b[1;31mNotImplementedError\u001b[0m: cannot instantiate 'PosixPath' on your system"
     ]
    }
   ],
   "source": [
    "!apt update\n",
    "!apt install texlive-xetex texlive-fonts-recommended texlive-generic-recommended\n",
    "\n",
    "import re, pathlib, shutil\n",
    "nbpath = pathlib.PosixPath(path_to_file)\n",
    "!jupyter nbconvert \"{nbpath.as_posix()}\" --to html --output \"{nbpath.stem.replace(\" \", \"_\")}\""
   ]
  }
 ],
 "metadata": {
  "colab": {
   "collapsed_sections": [],
   "name": "PA1-regularised-regression.ipynb",
   "provenance": []
  },
  "kernelspec": {
   "display_name": "Python 3 (ipykernel)",
   "language": "python",
   "name": "python3"
  },
  "language_info": {
   "codemirror_mode": {
    "name": "ipython",
    "version": 3
   },
   "file_extension": ".py",
   "mimetype": "text/x-python",
   "name": "python",
   "nbconvert_exporter": "python",
   "pygments_lexer": "ipython3",
   "version": "3.8.8"
  }
 },
 "nbformat": 4,
 "nbformat_minor": 1
}
